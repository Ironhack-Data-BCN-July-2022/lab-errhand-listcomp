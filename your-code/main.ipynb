{
 "cells": [
  {
   "cell_type": "markdown",
   "id": "576731f7",
   "metadata": {},
   "source": [
    "**Example:**\n",
    "\n",
    "eggs = (1,3,8,3,2)\n",
    "\n",
    "my_listComprehension = [1/egg for egg in eggs]\n",
    "\n",
    "print(my_listComprehension)\n"
   ]
  },
  {
   "cell_type": "markdown",
   "id": "cf2623ae",
   "metadata": {},
   "source": [
    "# Insert here the module/library import statements "
   ]
  },
  {
   "cell_type": "code",
   "execution_count": 3,
   "id": "630d7e4d",
   "metadata": {},
   "outputs": [],
   "source": [
    "from functools import reduce\n",
    "import math\n",
    "from os import listdir\n",
    "from os.path import isfile, join\n",
    "import random\n",
    "import sys"
   ]
  },
  {
   "cell_type": "markdown",
   "id": "59d96563",
   "metadata": {},
   "source": [
    "\n",
    "# Calculate the square number of the first 20 numbers. Use square as the name of the list.\n",
    "Remember to use list comprehensions and to print your results"
   ]
  },
  {
   "cell_type": "markdown",
   "id": "1207cb2c",
   "metadata": {},
   "source": []
  },
  {
   "cell_type": "code",
   "execution_count": 6,
   "id": "82bd8278",
   "metadata": {},
   "outputs": [
    {
     "name": "stdout",
     "output_type": "stream",
     "text": [
      "[0, 1, 4, 9, 16, 25, 36, 49, 64, 81, 100, 121, 144, 169, 196, 225, 256, 289, 324, 361, 400]\n"
     ]
    }
   ],
   "source": [
    "print([x**2 for x in range(21)])"
   ]
  },
  {
   "cell_type": "markdown",
   "id": "b421e0cb",
   "metadata": {},
   "source": [
    "# Calculate the square root of the first 100 numbers. Use sqrt as the name of the list.\n",
    "You will probably need to install math library with pip and import it in this file.\n",
    "\n",
    "Remember to use list comprehensions and to print your results\n"
   ]
  },
  {
   "cell_type": "code",
   "execution_count": 9,
   "id": "c047115a",
   "metadata": {},
   "outputs": [
    {
     "name": "stdout",
     "output_type": "stream",
     "text": [
      "[0.0, 1.0, 1.41, 1.73, 2.0, 2.24, 2.45, 2.65, 2.83, 3.0, 3.16, 3.32, 3.46, 3.61, 3.74, 3.87, 4.0, 4.12, 4.24, 4.36, 4.47, 4.58, 4.69, 4.8, 4.9, 5.0, 5.1, 5.2, 5.29, 5.39, 5.48, 5.57, 5.66, 5.74, 5.83, 5.92, 6.0, 6.08, 6.16, 6.24, 6.32, 6.4, 6.48, 6.56, 6.63, 6.71, 6.78, 6.86, 6.93, 7.0, 7.07, 7.14, 7.21, 7.28, 7.35, 7.42, 7.48, 7.55, 7.62, 7.68, 7.75, 7.81, 7.87, 7.94, 8.0, 8.06, 8.12, 8.19, 8.25, 8.31, 8.37, 8.43, 8.49, 8.54, 8.6, 8.66, 8.72, 8.77, 8.83, 8.89, 8.94, 9.0, 9.06, 9.11, 9.17, 9.22, 9.27, 9.33, 9.38, 9.43, 9.49, 9.54, 9.59, 9.64, 9.7, 9.75, 9.8, 9.85, 9.9, 9.95, 10.0]\n"
     ]
    }
   ],
   "source": [
    "print([round(math.sqrt(x), 2) for x in range(101)])"
   ]
  },
  {
   "cell_type": "markdown",
   "id": "f4bfca8d",
   "metadata": {},
   "source": [
    "\n",
    "# Create this list [-10,-9,-8,-7,-6,-5,-4,-3,-2,-1,0]. Use my_list as the name of the list.\n",
    "Remember to use list comprehensions and to print your results"
   ]
  },
  {
   "cell_type": "code",
   "execution_count": 11,
   "id": "e23d87ea",
   "metadata": {},
   "outputs": [
    {
     "name": "stdout",
     "output_type": "stream",
     "text": [
      "[-10, -9, -8, -7, -6, -5, -4, -3, -2, -1, 0]\n"
     ]
    }
   ],
   "source": [
    "my_list = list(range(-10, 1))\n",
    "print(my_list)"
   ]
  },
  {
   "cell_type": "markdown",
   "id": "62592d9c",
   "metadata": {},
   "source": [
    "\n",
    "# Find the odd numbers from 1-100. Use odds as the name of the list. \n",
    "Remember to use list comprehensions and to print your results"
   ]
  },
  {
   "cell_type": "code",
   "execution_count": 16,
   "id": "5597f89a",
   "metadata": {},
   "outputs": [
    {
     "name": "stdout",
     "output_type": "stream",
     "text": [
      "[2, 4, 6, 8, 10, 12, 14, 16, 18, 20, 22, 24, 26, 28, 30, 32, 34, 36, 38, 40, 42, 44, 46, 48, 50, 52, 54, 56, 58, 60, 62, 64, 66, 68, 70, 72, 74, 76, 78, 80, 82, 84, 86, 88, 90, 92, 94, 96, 98, 100]\n"
     ]
    }
   ],
   "source": [
    "odds = list(filter(lambda x: x%2 == 0, list(range(1,101))))\n",
    "print(odds)"
   ]
  },
  {
   "cell_type": "markdown",
   "id": "d8b74c2a",
   "metadata": {},
   "source": [
    "# Find all of the numbers from 1-1000 that are divisible by 7. Use divisible_by_seven as the name of the list.\n",
    "Remember to use list comprehensions and to print your results"
   ]
  },
  {
   "cell_type": "code",
   "execution_count": 18,
   "id": "6a9cfb8c",
   "metadata": {},
   "outputs": [
    {
     "name": "stdout",
     "output_type": "stream",
     "text": [
      "[7, 14, 21, 28, 35, 42, 49, 56, 63, 70, 77, 84, 91, 98, 105, 112, 119, 126, 133, 140, 147, 154, 161, 168, 175, 182, 189, 196, 203, 210, 217, 224, 231, 238, 245, 252, 259, 266, 273, 280, 287, 294, 301, 308, 315, 322, 329, 336, 343, 350, 357, 364, 371, 378, 385, 392, 399, 406, 413, 420, 427, 434, 441, 448, 455, 462, 469, 476, 483, 490, 497, 504, 511, 518, 525, 532, 539, 546, 553, 560, 567, 574, 581, 588, 595, 602, 609, 616, 623, 630, 637, 644, 651, 658, 665, 672, 679, 686, 693, 700, 707, 714, 721, 728, 735, 742, 749, 756, 763, 770, 777, 784, 791, 798, 805, 812, 819, 826, 833, 840, 847, 854, 861, 868, 875, 882, 889, 896, 903, 910, 917, 924, 931, 938, 945, 952, 959, 966, 973, 980, 987, 994]\n"
     ]
    }
   ],
   "source": [
    "divisible_by_seven = list(filter(lambda x: x%7 == 0, list(range(1,1001))))\n",
    "print(divisible_by_seven)"
   ]
  },
  {
   "cell_type": "markdown",
   "id": "6e6f21e0",
   "metadata": {},
   "source": [
    "# Remove all of the vowels in a string. Hint: make a list of the non-vowels. Use non_vowels as the name of the list.\n",
    "Remember to use list comprehensions and to print your results"
   ]
  },
  {
   "cell_type": "code",
   "execution_count": 26,
   "id": "43b38bd3",
   "metadata": {},
   "outputs": [
    {
     "name": "stdout",
     "output_type": "stream",
     "text": [
      "['F', 'n', 'd', ' ', 'l', 'l', ' ', 'f', ' ', 't', 'h', ' ', 'w', 'r', 'd', 's', ' ', 'n', ' ', ' ', 's', 't', 'r', 'n', 'g', ' ', 't', 'h', 't', ' ', 'r', ' ', 'm', 'n', 's', 'y', 'l', 'l', 'b', 'c']\n"
     ]
    }
   ],
   "source": [
    "teststring = 'Find all of the words in a string that are monosyllabic'\n",
    "non_vowels = list(filter(lambda x: x not in 'aeiou', teststring))\n",
    "print(non_vowels)"
   ]
  },
  {
   "cell_type": "markdown",
   "id": "277d491e",
   "metadata": {},
   "source": [
    "# Find the capital letters (and not white space) in the sentence 'The Quick Brown Fox Jumped Over The Lazy Dog'. \n",
    "- **Use capital_letters as the name of the list.**\n",
    "\n",
    "Remember to use list comprehensions and to print your results"
   ]
  },
  {
   "cell_type": "code",
   "execution_count": 30,
   "id": "3a43399c",
   "metadata": {},
   "outputs": [
    {
     "name": "stdout",
     "output_type": "stream",
     "text": [
      "['T', 'Q', 'B', 'F', 'J', 'O', 'T', 'L', 'D']\n"
     ]
    }
   ],
   "source": [
    "teststring = 'The Quick Brown Fox Jumped Over The Lazy Dog'\n",
    "capital_letters = list(filter(lambda x: x in 'ABCDEFGHIJKLMNOPQRSTUVWXYZ', teststring))\n",
    "print(capital_letters)"
   ]
  },
  {
   "cell_type": "markdown",
   "id": "c2603719",
   "metadata": {},
   "source": [
    "# Find all the consonants in the sentence 'The quick brown fox jumped over the lazy dog'.\n",
    " - **Use consonants as the name of the list.**\n",
    " \n",
    "Remember to use list comprehensions and to print your results.\n"
   ]
  },
  {
   "cell_type": "code",
   "execution_count": 31,
   "id": "3ddb68df",
   "metadata": {},
   "outputs": [
    {
     "name": "stdout",
     "output_type": "stream",
     "text": [
      "['T', 'h', 'q', 'c', 'k', 'b', 'r', 'w', 'n', 'f', 'x', 'j', 'm', 'p', 'd', 'v', 'r', 't', 'h', 'l', 'z', 'y', 'd', 'g']\n"
     ]
    }
   ],
   "source": [
    "teststring = 'The quick brown fox jumped over the lazy dog'\n",
    "consonants = list(filter(lambda x: x not in ' aeiouAEIOU', teststring))\n",
    "print(consonants)"
   ]
  },
  {
   "cell_type": "markdown",
   "id": "0f9c4004",
   "metadata": {},
   "source": [
    "# Find the folders you have in your madrid-oct-2018 local repo. Use files as name of the list.  \n",
    "\n",
    "**Hint: You will probably need to import os library and some of its modules. You will need to make some online research.**\n",
    "\n",
    "Remember to use list comprehensions and to print your results."
   ]
  },
  {
   "cell_type": "code",
   "execution_count": 12,
   "id": "22bb13eb",
   "metadata": {},
   "outputs": [
    {
     "name": "stdout",
     "output_type": "stream",
     "text": [
      "['Week 1', 'Week 2']\n"
     ]
    }
   ],
   "source": [
    "files = [f for f in listdir('../../../')]\n",
    "print(files)"
   ]
  },
  {
   "cell_type": "markdown",
   "id": "2cdaa518",
   "metadata": {},
   "source": [
    "# Create 4 lists of 10 random numbers between 0 and 100 each. Use random_lists as the name of the list. \n",
    "**Hint: You will probably need to import random module**\n",
    "\n",
    "Remember to use list comprehensions and to print your results"
   ]
  },
  {
   "cell_type": "code",
   "execution_count": 58,
   "id": "120b29bd",
   "metadata": {},
   "outputs": [
    {
     "name": "stdout",
     "output_type": "stream",
     "text": [
      "[2, 31, 88, 20, 91, 58, 96, 5, 16, 14]\n",
      "[98, 36, 97, 71, 83, 10, 19, 85, 14, 28]\n",
      "[7, 70, 55, 81, 44, 1, 88, 26, 34, 48]\n",
      "[44, 97, 84, 58, 32, 2, 5, 92, 21, 99]\n"
     ]
    }
   ],
   "source": [
    "random_list1 = random.sample(range(101), k=10)\n",
    "print(random_list1)\n",
    "random_list2 = random.sample(range(101), k=10)\n",
    "print(random_list2)\n",
    "random_list3 = random.sample(range(101), k=10)\n",
    "print(random_list3)\n",
    "random_list4 = random.sample(range(101), k=10)\n",
    "print(random_list4)"
   ]
  },
  {
   "cell_type": "markdown",
   "id": "b76ea171",
   "metadata": {},
   "source": [
    "# Flatten the following list of lists. Use flatten_list as the name of the output.\n",
    "\n",
    "Remember to use list comprehensions and to print your results\n"
   ]
  },
  {
   "cell_type": "code",
   "execution_count": 60,
   "id": "b3afebb7",
   "metadata": {},
   "outputs": [],
   "source": [
    "list_of_lists = [[1,2,3],[4,5,6],[7,8,9]]"
   ]
  },
  {
   "cell_type": "code",
   "execution_count": 61,
   "id": "b6bcef37",
   "metadata": {},
   "outputs": [
    {
     "name": "stdout",
     "output_type": "stream",
     "text": [
      "[1, 2, 3, 4, 5, 6, 7, 8, 9]\n"
     ]
    }
   ],
   "source": [
    "flatten_list = [number for three_numbers in list_of_lists for number in three_numbers]\n",
    "print(flatten_list)"
   ]
  },
  {
   "cell_type": "markdown",
   "id": "53c86611",
   "metadata": {},
   "source": [
    "\n",
    "# Convert the numbers of the following nested list to floats. Use floats as the name of the list. \n",
    "\n",
    "Remember to use list comprehensions and to print your results."
   ]
  },
  {
   "cell_type": "code",
   "execution_count": 64,
   "id": "7087f44e",
   "metadata": {},
   "outputs": [],
   "source": [
    "list_of_lists = [['40', '20', '10', '30'], ['20', '20', '20', '20', '20', '30', '20'], \\\n",
    "['30', '20', '30', '50', '10', '30', '20', '20', '20'], ['100', '100'], ['100', '100', '100', '100', '100'], \\\n",
    "['100', '100', '100', '100']]"
   ]
  },
  {
   "cell_type": "code",
   "execution_count": 65,
   "id": "a932aff5",
   "metadata": {},
   "outputs": [
    {
     "name": "stdout",
     "output_type": "stream",
     "text": [
      "[40.0, 20.0, 10.0, 30.0, 20.0, 20.0, 20.0, 20.0, 20.0, 30.0, 20.0, 30.0, 20.0, 30.0, 50.0, 10.0, 30.0, 20.0, 20.0, 20.0, 100.0, 100.0, 100.0, 100.0, 100.0, 100.0, 100.0, 100.0, 100.0, 100.0, 100.0]\n"
     ]
    }
   ],
   "source": [
    "floats = [float(number) for small_list in list_of_lists for number in small_list]\n",
    "print(floats)"
   ]
  },
  {
   "cell_type": "markdown",
   "id": "62272da6",
   "metadata": {},
   "source": [
    "# Handle the exception thrown by the code below by using try and except blocks. \n"
   ]
  },
  {
   "cell_type": "code",
   "execution_count": 15,
   "id": "b5980ab4",
   "metadata": {},
   "outputs": [
    {
     "ename": "SyntaxError",
     "evalue": "Missing parentheses in call to 'print'. Did you mean print(i**2)? (1795797210.py, line 3)",
     "output_type": "error",
     "traceback": [
      "\u001b[1;36m  Input \u001b[1;32mIn [15]\u001b[1;36m\u001b[0m\n\u001b[1;33m    print i**2\u001b[0m\n\u001b[1;37m          ^\u001b[0m\n\u001b[1;31mSyntaxError\u001b[0m\u001b[1;31m:\u001b[0m Missing parentheses in call to 'print'. Did you mean print(i**2)?\n"
     ]
    }
   ],
   "source": [
    "for i in ['a','b','c']:\n",
    "    try:\n",
    "        print i**2 \n",
    "    except SyntaxError:\n",
    "        print('Your code sucks :(((((((')\n",
    "\n",
    "# You can't use SyntaxErrors in except blocks"
   ]
  },
  {
   "cell_type": "markdown",
   "id": "bda76246",
   "metadata": {},
   "source": [
    "# Handle the exception thrown by the code below by using try and except blocks. \n",
    "\n",
    "Then use a finally block to print 'All Done.'\n",
    "\n",
    "Check in provided resources the type of error you may use. \n"
   ]
  },
  {
   "cell_type": "code",
   "execution_count": 76,
   "id": "441acd1c",
   "metadata": {},
   "outputs": [
    {
     "name": "stdout",
     "output_type": "stream",
     "text": [
      "You can't divide by 0 :(\n"
     ]
    }
   ],
   "source": [
    "x = 5\n",
    "y = 0\n",
    "\n",
    "try:\n",
    "    z = x/y\n",
    "except ZeroDivisionError:\n",
    "    print(\"You can't divide by 0 :(\")"
   ]
  },
  {
   "cell_type": "markdown",
   "id": "85ea78c5",
   "metadata": {},
   "source": [
    "# Handle the exception thrown by the code below by using try and except blocks. \n",
    "\n",
    "Check in provided resources the type of error you may use. \n"
   ]
  },
  {
   "cell_type": "code",
   "execution_count": 78,
   "id": "783a8224",
   "metadata": {},
   "outputs": [
    {
     "name": "stdout",
     "output_type": "stream",
     "text": [
      "Your indexes are out of range :(((\n"
     ]
    }
   ],
   "source": [
    "abc=[10,20,20]\n",
    "try:\n",
    "    print(abc[3])\n",
    "except IndexError:\n",
    "    print(\"Your indexes are out of range :(((\")"
   ]
  },
  {
   "cell_type": "markdown",
   "id": "10223640",
   "metadata": {},
   "source": [
    "# Handle at least two kind of different exceptions when dividing a couple of numbers provided by the user. \n",
    "\n",
    "**Hint: take a look on python input function.**\n",
    "\n",
    "Check in provided resources the type of error you may use. "
   ]
  },
  {
   "cell_type": "code",
   "execution_count": 88,
   "id": "3c1f141b",
   "metadata": {},
   "outputs": [
    {
     "name": "stdout",
     "output_type": "stream",
     "text": [
      "Enter a number: 2\n",
      "Enter a second number to divide the first number by: 0\n",
      "You can't divide by 0\n"
     ]
    }
   ],
   "source": [
    "a = input(\"Enter a number: \")\n",
    "b = input(\"Enter a second number to divide the first number by: \")\n",
    "try:\n",
    "    print(f\"The division is {round(float(a)/float(b), 2)}\")\n",
    "except ValueError:\n",
    "    print(\"You have to enter numbers\")\n",
    "except ZeroDivisionError:\n",
    "    print(\"You can't divide by 0\")"
   ]
  },
  {
   "cell_type": "markdown",
   "id": "5d712a55",
   "metadata": {},
   "source": [
    "# Handle the exception thrown by the code below by using try and except blocks. \n",
    "\n",
    "Check in provided resources the type of error you may use. "
   ]
  },
  {
   "cell_type": "code",
   "execution_count": 90,
   "id": "b73f824c",
   "metadata": {},
   "outputs": [
    {
     "name": "stdout",
     "output_type": "stream",
     "text": [
      "There is no such file\n"
     ]
    }
   ],
   "source": [
    "try:\n",
    "    f = open('testfile','r')\n",
    "except FileNotFoundError:\n",
    "    print(\"There is no such file\")"
   ]
  },
  {
   "cell_type": "markdown",
   "id": "a028ccb8",
   "metadata": {},
   "source": [
    "# Handle the exceptions that can be thrown by the code below using try and except blocks. \n",
    "\n",
    "**Hint: the file could not exist and the data could not be convertable to int**"
   ]
  },
  {
   "cell_type": "code",
   "execution_count": 98,
   "id": "5f639ab1",
   "metadata": {},
   "outputs": [
    {
     "name": "stdout",
     "output_type": "stream",
     "text": [
      "There is no such file\n"
     ]
    }
   ],
   "source": [
    "try :\n",
    "    fp = open('myfile.txt')\n",
    "    line = f.readline()\n",
    "    i = int(s.strip())\n",
    "except FileNotFoundError:\n",
    "    print(\"There is no such file\")\n",
    "except NameError:\n",
    "    print(\"There is no variable named f or s:(((\")"
   ]
  },
  {
   "cell_type": "markdown",
   "id": "d695245b",
   "metadata": {},
   "source": [
    "# The following function can only run on a Linux system. \n",
    "The assert in this function will throw an exception if you call it on an operating system other than Linux.\n",
    "\n",
    "Handle this exception using **try and except** blocks.\n",
    "\n",
    "You will probably need to import sys "
   ]
  },
  {
   "cell_type": "code",
   "execution_count": 102,
   "id": "3f043ef6",
   "metadata": {},
   "outputs": [
    {
     "name": "stdout",
     "output_type": "stream",
     "text": [
      "You're not on Linux\n"
     ]
    }
   ],
   "source": [
    "def linux_interaction():\n",
    "    assert ('linux' in sys.platform), \"Function can only run on Linux systems.\"\n",
    "    print('Doing something.')\n",
    "try:\n",
    "    linux_interaction()\n",
    "except AssertionError:\n",
    "    print(\"You're not on Linux\")"
   ]
  },
  {
   "cell_type": "markdown",
   "id": "9310a60b",
   "metadata": {},
   "source": [
    "\n",
    "# Bonus Questions:"
   ]
  },
  {
   "cell_type": "markdown",
   "id": "2f06d3fd",
   "metadata": {},
   "source": [
    "You will need to make some research on dictionary comprehension to solve the following questions"
   ]
  },
  {
   "cell_type": "markdown",
   "id": "3108ff54",
   "metadata": {},
   "source": [
    "## Write a function that asks for an integer and prints the square of it. \n",
    "\n",
    "**Hint: we need to continually keep checking until we get an integer.**\n",
    "\n",
    "Use a while loop with a try,except, else block to account for incorrect inputs."
   ]
  },
  {
   "cell_type": "code",
   "execution_count": null,
   "id": "94c2e76e",
   "metadata": {},
   "outputs": [],
   "source": []
  },
  {
   "cell_type": "markdown",
   "id": "7139da39",
   "metadata": {},
   "source": [
    "\n",
    "## Find all of the numbers from 1-1000 that are divisible by any single digit besides 1 (2-9). \n",
    "\n",
    "Use results as the name of the list \n"
   ]
  },
  {
   "cell_type": "code",
   "execution_count": null,
   "id": "90d3aa37",
   "metadata": {},
   "outputs": [],
   "source": []
  },
  {
   "cell_type": "markdown",
   "id": "e4791228",
   "metadata": {},
   "source": [
    "## Define a customised exception to handle not accepted values. \n",
    "\n",
    "You have the following user inputs and the Num_of_sections can not be less than 2.\n",
    "\n",
    "**Hint: Create a class derived from the pre-defined Exception class in Python**"
   ]
  },
  {
   "cell_type": "code",
   "execution_count": 6,
   "id": "86fa19bf",
   "metadata": {},
   "outputs": [
    {
     "name": "stdout",
     "output_type": "stream",
     "text": [
      "Enter Total Marks Scored: ass\n"
     ]
    },
    {
     "ename": "ValueError",
     "evalue": "invalid literal for int() with base 10: 'ass'",
     "output_type": "error",
     "traceback": [
      "\u001b[0;31m---------------------------------------------------------------------------\u001b[0m",
      "\u001b[0;31mValueError\u001b[0m                                Traceback (most recent call last)",
      "\u001b[0;32m<ipython-input-6-94b26594c4c4>\u001b[0m in \u001b[0;36m<module>\u001b[0;34m\u001b[0m\n\u001b[0;32m----> 1\u001b[0;31m \u001b[0mTotal_Marks\u001b[0m \u001b[0;34m=\u001b[0m \u001b[0mint\u001b[0m\u001b[0;34m(\u001b[0m\u001b[0minput\u001b[0m\u001b[0;34m(\u001b[0m\u001b[0;34m\"Enter Total Marks Scored: \"\u001b[0m\u001b[0;34m)\u001b[0m\u001b[0;34m)\u001b[0m\u001b[0;34m\u001b[0m\u001b[0;34m\u001b[0m\u001b[0m\n\u001b[0m\u001b[1;32m      2\u001b[0m \u001b[0mNum_of_Sections\u001b[0m \u001b[0;34m=\u001b[0m \u001b[0mint\u001b[0m\u001b[0;34m(\u001b[0m\u001b[0minput\u001b[0m\u001b[0;34m(\u001b[0m\u001b[0;34m\"Enter Num of Sections: \"\u001b[0m\u001b[0;34m)\u001b[0m\u001b[0;34m)\u001b[0m\u001b[0;34m\u001b[0m\u001b[0;34m\u001b[0m\u001b[0m\n",
      "\u001b[0;31mValueError\u001b[0m: invalid literal for int() with base 10: 'ass'"
     ]
    }
   ],
   "source": [
    "Total_Marks = int(input(\"Enter Total Marks Scored: \")) \n",
    "Num_of_Sections = int(input(\"Enter Num of Sections: \"))"
   ]
  },
  {
   "cell_type": "code",
   "execution_count": null,
   "id": "f80bb764",
   "metadata": {},
   "outputs": [],
   "source": []
  }
 ],
 "metadata": {
  "kernelspec": {
   "display_name": "Python 3 (ipykernel)",
   "language": "python",
   "name": "python3"
  },
  "language_info": {
   "codemirror_mode": {
    "name": "ipython",
    "version": 3
   },
   "file_extension": ".py",
   "mimetype": "text/x-python",
   "name": "python",
   "nbconvert_exporter": "python",
   "pygments_lexer": "ipython3",
   "version": "3.9.12"
  },
  "toc": {
   "base_numbering": 1,
   "nav_menu": {},
   "number_sections": true,
   "sideBar": true,
   "skip_h1_title": false,
   "title_cell": "Table of Contents",
   "title_sidebar": "Contents",
   "toc_cell": false,
   "toc_position": {},
   "toc_section_display": true,
   "toc_window_display": false
  }
 },
 "nbformat": 4,
 "nbformat_minor": 5
}
